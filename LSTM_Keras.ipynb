{
  "nbformat": 4,
  "nbformat_minor": 0,
  "metadata": {
    "colab": {
      "provenance": [],
      "include_colab_link": true
    },
    "kernelspec": {
      "name": "python3",
      "display_name": "Python 3"
    },
    "language_info": {
      "name": "python"
    }
  },
  "cells": [
    {
      "cell_type": "markdown",
      "metadata": {
        "id": "view-in-github",
        "colab_type": "text"
      },
      "source": [
        "<a href=\"https://colab.research.google.com/github/AdityaPrasad275/Detecting-Depression-Through-Tweets/blob/main/LSTM_Keras.ipynb\" target=\"_parent\"><img src=\"https://colab.research.google.com/assets/colab-badge.svg\" alt=\"Open In Colab\"/></a>"
      ]
    },
    {
      "cell_type": "markdown",
      "source": [
        "Versions used : \n",
        "\n",
        "Library  | Version\n",
        "-------------------|------------------\n",
        "matplotlib | 3.2.2\n",
        "pandas  | 1.3.5\n",
        "seaborn | 0.11.2\n",
        "nltk | 3.7\n",
        "keras | 2.9"
      ],
      "metadata": {
        "id": "WA-oiIWfoRMx"
      }
    },
    {
      "cell_type": "code",
      "execution_count": null,
      "metadata": {
        "id": "8wNxzF-KnvYA"
      },
      "outputs": [],
      "source": [
        "from google.colab import drive\n",
        "drive.mount('/gdrive')\n",
        "%cd /gdrive\n",
        "import os\n",
        "os.chdir('MyDrive/Projects')\n",
        "!ls"
      ]
    },
    {
      "cell_type": "code",
      "source": [
        "import numpy as np # linear algebra\n",
        "import pandas as pd # data processing, CSV file I/O (e.g. pd.read_csv)\n",
        "\n",
        "from sklearn.feature_extraction.text import CountVectorizer\n",
        "from keras.preprocessing.text import Tokenizer\n",
        "from keras_preprocessing.sequence import pad_sequences\n",
        "from keras.models import Sequential\n",
        "from keras.layers import Dense, Embedding, LSTM\n",
        "from sklearn.model_selection import train_test_split\n",
        "from keras.utils.np_utils import to_categorical\n",
        "\n",
        "#to be able to drop nodes\n",
        "from keras.layers import Dense, Dropout, Flatten\n",
        "import re"
      ],
      "metadata": {
        "id": "kHScQ5vEoCwf"
      },
      "execution_count": null,
      "outputs": []
    },
    {
      "cell_type": "code",
      "source": [
        "import pandas as pd\n",
        "import numpy as np\n",
        "import matplotlib.pyplot as plt\n",
        "import seaborn as sns\n",
        "\n",
        "import warnings\n",
        "warnings.simplefilter(action='ignore', category=FutureWarning)\n",
        "\n",
        "import string\n",
        "file_path='Processed data.csv'\n",
        "df=pd.read_csv(file_path,on_bad_lines='skip')"
      ],
      "metadata": {
        "id": "0sN89Roxn533"
      },
      "execution_count": null,
      "outputs": []
    },
    {
      "cell_type": "code",
      "source": [
        "print(df.shape)"
      ],
      "metadata": {
        "colab": {
          "base_uri": "https://localhost:8080/"
        },
        "id": "gMJKGUrqn-9q",
        "outputId": "29c59b61-b30b-4fd5-dd30-b40cb964e874"
      },
      "execution_count": null,
      "outputs": [
        {
          "output_type": "stream",
          "name": "stdout",
          "text": [
            "(1578550, 6)\n"
          ]
        }
      ]
    },
    {
      "cell_type": "code",
      "source": [
        "df.head()"
      ],
      "metadata": {
        "id": "6INNcAFq5Hbd"
      },
      "execution_count": null,
      "outputs": []
    },
    {
      "cell_type": "code",
      "source": [
        "data = df[['Sentiment', 'SentimentText']]\n",
        "data2=df[['Sentiment','WithoutStopwords']]"
      ],
      "metadata": {
        "id": "H3vXM-zv5JRt"
      },
      "execution_count": null,
      "outputs": []
    },
    {
      "cell_type": "code",
      "source": [
        "print(\"Entries with sentiment = 1 is :\",data[ data['Sentiment'] == 1].size)\n",
        "print(\"Entries with sentiment = 1 is :\",data[ data['Sentiment'] == 0].size)\n",
        "    \n",
        "max_fatures = 2000\n",
        "tokenizer = Tokenizer(num_words=max_fatures, split=' ')\n",
        "tokenizer.fit_on_texts(data['SentimentText'].values)\n",
        "X = tokenizer.texts_to_sequences(data['SentimentText'].values)\n",
        "X = pad_sequences(X)"
      ],
      "metadata": {
        "id": "D-ysmVwA5Sz4"
      },
      "execution_count": null,
      "outputs": []
    },
    {
      "cell_type": "code",
      "source": [],
      "metadata": {
        "id": "4WBRsKYk6dXz"
      },
      "execution_count": null,
      "outputs": []
    },
    {
      "cell_type": "code",
      "source": [
        "embed_dim = 50\n",
        "lstm_out = 80\n",
        "model = Sequential()\n",
        "model.add(Embedding(max_fatures, embed_dim,input_length = X.shape[1]))\n",
        "model.add(Dropout(0.2))\n",
        "\n",
        "model.add(LSTM(lstm_out, recurrent_dropout=0.2))\n",
        "model.add(Dropout(0.2))\n",
        "model.add(Dense(2,activation='softmax'))\n",
        "model.compile(loss = 'categorical_crossentropy', optimizer='adam',metrics = ['accuracy'])\n",
        "print(model.summary())"
      ],
      "metadata": {
        "colab": {
          "base_uri": "https://localhost:8080/"
        },
        "id": "xyQS1d1R6AqY",
        "outputId": "ae805220-d81f-438b-a3d5-11642e630109"
      },
      "execution_count": null,
      "outputs": [
        {
          "output_type": "stream",
          "name": "stdout",
          "text": [
            "Model: \"sequential_3\"\n",
            "_________________________________________________________________\n",
            " Layer (type)                Output Shape              Param #   \n",
            "=================================================================\n",
            " embedding_2 (Embedding)     (None, 40, 50)            100000    \n",
            "                                                                 \n",
            " dropout (Dropout)           (None, 40, 50)            0         \n",
            "                                                                 \n",
            " lstm (LSTM)                 (None, 80)                41920     \n",
            "                                                                 \n",
            " dropout_1 (Dropout)         (None, 80)                0         \n",
            "                                                                 \n",
            " dense (Dense)               (None, 2)                 162       \n",
            "                                                                 \n",
            "=================================================================\n",
            "Total params: 142,082\n",
            "Trainable params: 142,082\n",
            "Non-trainable params: 0\n",
            "_________________________________________________________________\n",
            "None\n"
          ]
        }
      ]
    },
    {
      "cell_type": "code",
      "source": [
        "Y = pd.get_dummies(data['Sentiment']).values\n",
        "X_train, X_test, Y_train, Y_test = train_test_split(X,Y, test_size = 0.33, random_state = 42)\n",
        "print(X_train.shape,Y_train.shape)\n",
        "print(X_test.shape,Y_test.shape)"
      ],
      "metadata": {
        "id": "5fKDtoTN8Kfz"
      },
      "execution_count": null,
      "outputs": []
    },
    {
      "cell_type": "code",
      "source": [
        "batch_size = 32\n",
        "model.fit(X_train, Y_train, epochs = 1, batch_size=batch_size, verbose = 2)\n",
        "\n",
        "#31mins to run 1 epoch"
      ],
      "metadata": {
        "colab": {
          "base_uri": "https://localhost:8080/"
        },
        "id": "jPssyJov8OW1",
        "outputId": "29b7bbd2-f9e4-4010-d1f9-b5f86425a431"
      },
      "execution_count": null,
      "outputs": [
        {
          "output_type": "stream",
          "name": "stdout",
          "text": [
            "33051/33051 - 1852s - loss: 0.4524 - accuracy: 0.7864 - 1852s/epoch - 56ms/step\n"
          ]
        },
        {
          "output_type": "execute_result",
          "data": {
            "text/plain": [
              "<keras.callbacks.History at 0x7f26d89dbd00>"
            ]
          },
          "metadata": {},
          "execution_count": 37
        }
      ]
    },
    {
      "cell_type": "code",
      "source": [
        "validation_size = 150000\n",
        "\n",
        "X_validate = X_test[-validation_size:]\n",
        "Y_validate = Y_test[-validation_size:]\n",
        "X_test = X_test[:-validation_size]\n",
        "Y_test = Y_test[:-validation_size]\n",
        "score,acc = model.evaluate(X_test, Y_test, verbose = 2, batch_size = batch_size)\n",
        "print(\"score: %.2f\" % (score))\n",
        "print(\"acc: %.2f\" % (acc))\n",
        "\n",
        "#takes 3mins to run"
      ],
      "metadata": {
        "colab": {
          "base_uri": "https://localhost:8080/"
        },
        "id": "m69BtpbE8rae",
        "outputId": "0a4a1807-455b-4e15-ed9c-8bb745c8121c"
      },
      "execution_count": null,
      "outputs": [
        {
          "output_type": "stream",
          "name": "stdout",
          "text": [
            "11545/11545 - 106s - loss: 0.4344 - accuracy: 0.7978 - 106s/epoch - 9ms/step\n",
            "score: 0.43\n",
            "acc: 0.80\n"
          ]
        }
      ]
    },
    {
      "cell_type": "code",
      "source": [
        "pos_cnt, neg_cnt, pos_correct, neg_correct = 0, 0, 0, 0\n",
        "for x in range(len(X_validate)):\n",
        "    \n",
        "    #print(data['text'].iloc[-validation_size+x])\n",
        "    result = model.predict(X_validate[x].reshape(1,X_test.shape[1]),batch_size=1,verbose = 2)[0]\n",
        "    #print(result)\n",
        "    #print(Y_validate[x])\n",
        "    if np.argmax(result) == np.argmax(Y_validate[x]):\n",
        "        if np.argmax(Y_validate[x]) == 0:\n",
        "            neg_correct += 1\n",
        "        else:\n",
        "            pos_correct += 1\n",
        "       \n",
        "    #print(np.argmax(Y_validate[x]))\n",
        "    if np.argmax(Y_validate[x]) == 0:\n",
        "        neg_cnt += 1\n",
        "    else:\n",
        "        pos_cnt += 1\n",
        "    #print(np.argmax(result) == np.argmax(Y_validate[x]))\n",
        "    #print()\n",
        "    #print()\n",
        "    \n",
        "\n",
        "# print(\"pos_correct\", pos_correct)\n",
        "# print(\"neg_correct\", neg_correct)\n"
      ],
      "metadata": {
        "id": "HnOFtImK9KPy"
      },
      "execution_count": null,
      "outputs": []
    },
    {
      "cell_type": "code",
      "source": [
        "print(\"pos_cnt\", pos_cnt)\n",
        "print(\"neg_cnt\", neg_cnt)\n",
        "print(\"pos_acc\", pos_correct/pos_cnt*100, \"%\")\n",
        "print(\"neg_acc\", neg_correct/neg_cnt*100, \"%\")"
      ],
      "metadata": {
        "colab": {
          "base_uri": "https://localhost:8080/"
        },
        "id": "LU8XOB5ehIg7",
        "outputId": "d75eab53-a911-4891-a720-18ffa36936b1"
      },
      "execution_count": null,
      "outputs": [
        {
          "output_type": "stream",
          "name": "stdout",
          "text": [
            "pos_cnt 75138\n",
            "neg_cnt 74862\n",
            "pos_acc 77.79419202001651 %\n",
            "neg_acc 81.49929203066976 %\n"
          ]
        }
      ]
    },
    {
      "cell_type": "code",
      "source": [
        "print(\"pos_cnt\", pos_cnt)\n",
        "print(\"neg_cnt\", neg_cnt)\n",
        "print(\"pos_acc\", pos_correct/pos_cnt*100, \"%\")\n",
        "print(\"neg_acc\", neg_correct/neg_cnt*100, \"%\")"
      ],
      "metadata": {
        "colab": {
          "base_uri": "https://localhost:8080/"
        },
        "id": "It3TQP4qFGZ-",
        "outputId": "3633b0bf-c52d-4add-d3d2-d33fc5c8b68c"
      },
      "execution_count": null,
      "outputs": [
        {
          "output_type": "stream",
          "name": "stdout",
          "text": [
            "pos_cnt 752\n",
            "neg_cnt 748\n",
            "pos_acc 80.45212765957447 %\n",
            "neg_acc 83.28877005347593 %\n"
          ]
        }
      ]
    },
    {
      "cell_type": "code",
      "source": [],
      "metadata": {
        "id": "g8SG-QvKrYqY"
      },
      "execution_count": null,
      "outputs": []
    }
  ]
}